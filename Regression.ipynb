{
  "nbformat": 4,
  "nbformat_minor": 0,
  "metadata": {
    "colab": {
      "provenance": []
    },
    "kernelspec": {
      "name": "python3",
      "display_name": "Python 3"
    },
    "language_info": {
      "name": "python"
    }
  },
  "cells": [
    {
      "cell_type": "markdown",
      "source": [
        "# Regression"
      ],
      "metadata": {
        "id": "5uiFvnh80tNJ"
      }
    },
    {
      "cell_type": "markdown",
      "source": [
        "1. What is Simple Linear Regression?"
      ],
      "metadata": {
        "id": "8wCl5z-J0wDG"
      }
    },
    {
      "cell_type": "markdown",
      "source": [
        "Ans- Simple Linear Regression is a statistical method used to model the relationship between two variables:\n",
        "- One independent variable (predictor) — usually denoted as X.\n",
        "- One dependent variable (response) — usually denoted as Y.\n",
        "Purpose:\n",
        "To predict the value of Y based on the value of X.\n",
        "\n",
        "Equation of Simple Linear Regression:\n",
        "Y=β\n",
        "0\n",
        "​\n",
        " +β\n",
        "1\n",
        "​\n",
        " X+ϵ"
      ],
      "metadata": {
        "id": "AseoPWPy05k3"
      }
    },
    {
      "cell_type": "markdown",
      "source": [
        "2. What are the key assumptions of Simple Linear Regression?"
      ],
      "metadata": {
        "id": "90FYcUc01NjX"
      }
    },
    {
      "cell_type": "markdown",
      "source": [
        "Ans- The key assumptions of Simple Linear Regression are crucial for the model to produce valid, unbiased, and reliable results. Here's a breakdown of the five main assumptions:\n",
        "- Linearity: \tLinear relationship between X and Y\n",
        "- Independence: \tErrors are independent\n",
        "- Homoscedasticity: \tConstant error variance\n",
        "- Normality: \tErrors are normally distributed\n",
        "- No multicollinearity: \t(N/A for simple regression)"
      ],
      "metadata": {
        "id": "9gIaQPkI1XHF"
      }
    },
    {
      "cell_type": "markdown",
      "source": [
        "3. What does the coefficient m represent in the equation Y=mX+c?"
      ],
      "metadata": {
        "id": "eZWxOQ0_15vm"
      }
    },
    {
      "cell_type": "markdown",
      "source": [
        "Ans- the coefficient m represents the slope of the line.\n",
        "\n",
        "Meaning of m (Slope):\n",
        "- It tells you how much Y changes when X increases by 1 unit.\n",
        "\n",
        "- More precisely, it’s the rate of change of the dependent variable Y with respect to the independent variable X.\n",
        "\n"
      ],
      "metadata": {
        "id": "4t-SdoDi2HCN"
      }
    },
    {
      "cell_type": "markdown",
      "source": [
        "4. What does the intercept c represent in the equation Y=mX+c?"
      ],
      "metadata": {
        "id": "zTy5R1Y32f6l"
      }
    },
    {
      "cell_type": "markdown",
      "source": [
        "Ans- the coefficient c is the intercept (also called the Y-intercept).\n",
        "- Meaning of c (Intercept):\n",
        "It represents the value of Y when X=0.\n",
        "- In other words, it’s the point where the line crosses the Y-axis.\n"
      ],
      "metadata": {
        "id": "zqB3LhRx2jx8"
      }
    },
    {
      "cell_type": "markdown",
      "source": [
        "5. How do we calculate the slope m in Simple Linear Regression?"
      ],
      "metadata": {
        "id": "UQ9wmquf3hB1"
      }
    },
    {
      "cell_type": "markdown",
      "source": [
        "Ans- To calculate the slope\n",
        "𝑚\n",
        "m in Simple Linear Regression, you use the formula:\n",
        "\n",
        "𝑚\n",
        "=\n",
        "∑\n",
        "(\n",
        "𝑋\n",
        "𝑖\n",
        "−\n",
        "𝑋\n",
        "ˉ\n",
        ")\n",
        "(\n",
        "𝑌\n",
        "𝑖\n",
        "−\n",
        "𝑌\n",
        "ˉ\n",
        ")\n",
        "/∑\n",
        "(\n",
        "𝑋\n",
        "𝑖\n",
        "−\n",
        "𝑋\n",
        "ˉ\n",
        ")\n",
        "2\n",
        "\n",
        "\n",
        "Where:\n",
        "\n",
        "- 𝑋\n",
        "𝑖\n",
        "  and\n",
        "𝑌\n",
        "𝑖\n",
        " are the individual data points\n",
        "\n",
        "- 𝑋 -\n",
        "  is the mean of the independent variable\n",
        "𝑋\n",
        "- 𝑌\n",
        "ˉ\n",
        "  is the mean of the dependent variable\n",
        "𝑌\n"
      ],
      "metadata": {
        "id": "yoRSLOqs3yGl"
      }
    },
    {
      "cell_type": "markdown",
      "source": [
        "6. What is the purpose of the least squares method in Simple Linear Regression?"
      ],
      "metadata": {
        "id": "XeHZ6cqJ4-gc"
      }
    },
    {
      "cell_type": "markdown",
      "source": [
        "Ans- The least squares method is used in Simple Linear Regression to find the best-fitting straight line through a set of data points. It works by minimizing the sum of the squared differences between the actual values and the predicted values from the line. These differences are called residuals. By squaring and summing them, the method ensures that large errors are penalized more, resulting in a line that best represents the overall trend in the data. This leads to accurate and reliable predictions and provides statistically optimal estimates under standard regression assumptions.\n",
        "\n"
      ],
      "metadata": {
        "id": "Vgrj9BRe5Dx1"
      }
    },
    {
      "cell_type": "markdown",
      "source": [
        "7. How is the coefficient of determination (R²) interpreted in Simple Linear Regression?"
      ],
      "metadata": {
        "id": "IpgwEI4N5V2b"
      }
    },
    {
      "cell_type": "markdown",
      "source": [
        "Ans-\n",
        "- The coefficient of determination (𝑅2) measures how well the regression model explains the variation in the dependent variable.\n",
        "- It ranges from 0 to 1:\n",
        " - 𝑅\n",
        "2\n",
        "=\n",
        "0\n",
        ": Model explains none of the variation.\n",
        "\n",
        " - 𝑅\n",
        "2\n",
        "=\n",
        "1\n",
        ": Model explains all the variation.\n",
        "- For example,\n",
        "𝑅\n",
        "2\n",
        "= 0.80 means 80% of the variation in\n",
        "𝑌\n",
        " is explained by\n",
        "𝑋.\n",
        "\n",
        "- A higher\n",
        "𝑅\n",
        "2 value indicates a better model fit.\n",
        "- However, a high\n",
        "𝑅\n",
        "2 does not guarantee that the model is valid — it does not check assumptions like linearity or normality."
      ],
      "metadata": {
        "id": "jLYynehJ5aHD"
      }
    },
    {
      "cell_type": "markdown",
      "source": [
        "8. What is Multiple Linear Regression?"
      ],
      "metadata": {
        "id": "QQPzc5UM6iy0"
      }
    },
    {
      "cell_type": "markdown",
      "source": [
        "Ans- Multiple Linear Regression (MLR) is a statistical technique used to model the relationship between one dependent variable and two or more independent (predictor) variables.\n",
        "- Linearity: Relationship between dependent and independent variables is linear.\n",
        "- Independence of errors\n",
        "- Homoscedasticity: Equal variance of residuals.\n",
        "- Normality of errors\n",
        "- No multicollinearity: Independent variables are not highly correlated with each other.\n",
        "\n"
      ],
      "metadata": {
        "id": "HLhOxMFt6wGF"
      }
    },
    {
      "cell_type": "markdown",
      "source": [
        "9. What is the main difference between Simple and Multiple Linear Regression?"
      ],
      "metadata": {
        "id": "gOvnGcCi6-D7"
      }
    },
    {
      "cell_type": "markdown",
      "source": [
        "Ans- \tSimple Linear Regression:\n",
        " - Number of Predictors: \tUses one independent variable (X)\n",
        " - Equation Form:\n",
        "𝑌\n",
        "=\n",
        "𝛽\n",
        "0\n",
        "+\n",
        "𝛽\n",
        "1\n",
        "𝑋\n",
        "+\n",
        "𝜖\n",
        "\n",
        "- Purpose: \tModels relationship between Y and one X\n",
        "- Complexity: \tSimpler, easier to interpret\n",
        "\n",
        "\tMultiple Linear Regression\n",
        "- Number of Predictors: Uses two or more independent variables (X₁, X₂, ..., Xₙ)\n",
        "- Equation Form: Y=β\n",
        "0\n",
        "​\n",
        " +β\n",
        "1\n",
        "​\n",
        " X\n",
        "1\n",
        "​\n",
        " +β\n",
        "2\n",
        "​\n",
        " X\n",
        "2\n",
        "​\n",
        " +⋯+β\n",
        "n\n",
        "​\n",
        " X\n",
        "n\n",
        "​\n",
        " +ϵ\n",
        "\n",
        " - Purpose: Models relationship between Y and multiple Xs\n",
        " - Complexity\t: \tMore complex, can handle more factors"
      ],
      "metadata": {
        "id": "O6rc2CaK7Cuy"
      }
    },
    {
      "cell_type": "markdown",
      "source": [
        "10. What are the key assumptions of Multiple Linear Regression?"
      ],
      "metadata": {
        "id": "uOY4Tbnj8BRr"
      }
    },
    {
      "cell_type": "markdown",
      "source": [
        "Ans- Here are the key assumptions of Multiple Linear Regression that must be met to ensure valid and reliable results:\n",
        "\n",
        "- Linearity: The relationship between the dependent variable and each independent variable is linear.\n",
        "-  Independence of Errors: The residuals (errors) are independent of each other.\n",
        "- Homoscedasticity (Constant Variance): The variance of the residuals is constant for all levels of the independent variables.\n",
        "-  Normality of Errors: The residuals are normally distributed.\n",
        "-  No Multicollinearity: Independent variables are not highly correlated with each other."
      ],
      "metadata": {
        "id": "Wul_C-gE8FFj"
      }
    },
    {
      "cell_type": "markdown",
      "source": [
        "11. What is heteroscedasticity, and how does it affect the results of a Multiple Linear Regression model?"
      ],
      "metadata": {
        "id": "xm5ZFBV58i3D"
      }
    },
    {
      "cell_type": "markdown",
      "source": [
        "Ans- Heteroscedasticity occurs when the variance of the errors (residuals) in a regression model is not constant across all levels of the independent variables. In other words, the spread or \"scatter\" of residuals changes depending on the value of the predictors.\n",
        "- Inefficient Estimates: The Ordinary Least Squares (OLS) estimates for coefficients remain unbiased but are no longer efficient (i.e., they do not have the smallest variance possible).\n",
        "- Invalid Standard Errors: Standard errors of the estimates become unreliable, leading to:\n",
        " - Incorrect confidence intervals\n",
        " - Misleading hypothesis tests (t-tests, F-tests)\n",
        " - Potential false positives or negatives about predictor significance\n",
        "- Misleading Model Fit:\n",
        "The overall fit statistics (like\n",
        "𝑅\n",
        "2) might not fully reflect model adequacy."
      ],
      "metadata": {
        "id": "voNRzIWQ8sI6"
      }
    },
    {
      "cell_type": "markdown",
      "source": [
        "12. How can you improve a Multiple Linear Regression model with high multicollinearity?"
      ],
      "metadata": {
        "id": "UVp9RxlVnV1H"
      }
    },
    {
      "cell_type": "markdown",
      "source": [
        "Ans- High multicollinearity in a multiple linear regression model can distort the estimation of coefficients, inflate standard errors, and make it difficult to assess the effect of individual predictors. To improve a model with high multicollinearity, consider the following approaches:\n",
        "Remove Highly Correlated Predictors\n",
        "- Correlation matrix: Examine pairwise correlations between predictors.\n",
        "- Variance Inflation Factor (VIF): Remove or combine variables with high VIFs (typically > 5 or 10).\n",
        "\n",
        "2. Combine Predictors\n",
        "- Principal Component Analysis (PCA): Reduce dimensionality and create uncorrelated components.\n",
        "- Partial Least Squares (PLS): A supervised method that reduces predictors while preserving predictive power.\n",
        "\n",
        "3. Regularization Techniques\n",
        "- These add a penalty to the regression to shrink or eliminate coefficients:\n",
        "- Ridge Regression (L2): Reduces the impact of multicollinearity by shrinking coefficients but doesn't set them to zero.\n",
        "- Lasso Regression (L1): Performs variable selection by shrinking some coefficients to zero.\n",
        "- Elastic Net: Combines L1 and L2 penalties, useful when predictors are highly correlated.\n",
        "\n",
        "4. Centering and Scaling Predictors\n",
        "- Standardizing variables can help stabilize numerical estimation but does not eliminate multicollinearity.\n",
        "- Can help when using regularization techniques.\n",
        "\n",
        "5. Collect More Data\n",
        "- If feasible, increasing the sample size can reduce the variance of coefficient estimates.\n",
        "\n"
      ],
      "metadata": {
        "id": "vBMwuLIYneyf"
      }
    },
    {
      "cell_type": "markdown",
      "source": [
        "13. What are some common techniques for transforming categorical variables for use in regression models?"
      ],
      "metadata": {
        "id": "qxDuY33Ln7iP"
      }
    },
    {
      "cell_type": "markdown",
      "source": [
        "Ans- Transforming categorical variables into a numerical format is essential for using them in regression models, which require numeric input. Here are some common techniques for transforming categorical variables:\n",
        "\n",
        "1. One-Hot Encoding (Dummy Variables)\n",
        "- What it does: Creates binary (0/1) columns for each category.\n",
        "- When to use: For nominal variables (no intrinsic order), like color: Red, Blue, Green.\n",
        "2. Label Encoding What it does: Assigns an integer value to each category.\n",
        "- When to use: Rarely used in regression unless the categories have ordinal meaning.\n",
        "- Problem: Implies an order where there may be none.\n",
        "3. Ordinal Encoding\n",
        "- What it does: Maps ordered categories to integers based on their rank.\n",
        "- When to use: For ordinal variables (e.g., Education level: High School < Bachelors < Masters).\n",
        "4. Target Encoding (Mean Encoding)\n",
        "- What it does: Replaces categories with the mean of the target variable for that category.\n",
        "- When to use: Can improve performance in high-cardinality features, but risks data leakage.\n",
        "- Mitigation: Use cross-validation or regularization.\n",
        "5. Frequency or Count Encoding\n",
        "- What it does: Encodes categories based on how often they appear in the data.\n",
        "- Useful for: Reducing dimensionality in high-cardinality categorical variables.\n",
        "\n"
      ],
      "metadata": {
        "id": "IEYfW9XFoAAv"
      }
    },
    {
      "cell_type": "markdown",
      "source": [
        "14.  What is the role of interaction terms in Multiple Linear Regression?"
      ],
      "metadata": {
        "id": "qvXNL8wCuo6W"
      }
    },
    {
      "cell_type": "markdown",
      "source": [
        "Ans- Interaction terms in multiple linear regression are used to capture the combined effect of two (or more) independent variables on the dependent variable that isn’t simply additive.\n",
        "- To model non-additive relationships.\n",
        "- To capture situations where the effect of one variable depends on the level of another.\n",
        "- Improves model accuracy when interaction effects exist.\n",
        "\n"
      ],
      "metadata": {
        "id": "Dsw8BUtluuuF"
      }
    },
    {
      "cell_type": "markdown",
      "source": [
        "15. How can the interpretation of intercept differ between Simple and Multiple Linear Regression?"
      ],
      "metadata": {
        "id": "Z06J-CY3u5ew"
      }
    },
    {
      "cell_type": "markdown",
      "source": [
        "Ans- The intercept is the estimated value of the dependent variable Y when all independent variables are equal to zero. However, how we interpret it differs slightly between Simple and Multiple Linear Regression.\n",
        "1. In Simple Linear Regression (SLR)\n",
        "- Model form:\n",
        "\n",
        "𝑌\n",
        "=\n",
        "𝛽\n",
        "0\n",
        "+\n",
        "𝛽\n",
        "1\n",
        "𝑋\n",
        "+\n",
        "𝜀\n",
        "  - Intercept 𝛽0:\n",
        "   - Represents the expected value of Y when X=0.\n",
        "   - Interpretation is straightforward, assuming X=0 is meaningful in the context.\n",
        "-  Example:\n",
        "Predicting height from age:\n",
        "\n",
        "                         Height=β0+β1⋅Age\n",
        "If Age = 0 means a newborn, then 𝛽0 is the predicted height at birth.\n",
        "2. In Multiple Linear Regression (MLR)\n",
        "- Model form:\n",
        "\n",
        "                     Y=β0+ β1X1+ β2X2+⋯+ βkXk+ ε\n",
        "Intercept 𝛽0:\n",
        "\n",
        "- Represents the expected value of Y when all X\n",
        "1\n",
        "​\n",
        " ,X\n",
        "2\n",
        "​\n",
        " ,…,X\n",
        "k\n",
        "​\n",
        " =0.\n",
        "- This may not be meaningful or realistic, especially if zero is not a valid or possible value for all predictors.\n",
        "-  Example:\n",
        "\n",
        " Predicting house price based on size, number of rooms, and location score:\n",
        " Price =𝛽0+𝛽1⋅ Size+𝛽2⋅Rooms+𝛽3⋅LocationScore\n",
        "  \n",
        " Here,\n",
        "𝛽\n",
        "0\n",
        "  is the predicted price when Size = 0, Rooms = 0, and LocationScore = 0 — which may be nonsensical.\n",
        "\n",
        "\n",
        "\n",
        "\n"
      ],
      "metadata": {
        "id": "FtBbY1wgu8jr"
      }
    },
    {
      "cell_type": "markdown",
      "source": [
        "16. What is the significance of the slope in regression analysis, and how does it affect predictions?"
      ],
      "metadata": {
        "id": "oi-FACm91q3-"
      }
    },
    {
      "cell_type": "markdown",
      "source": [
        "Ans- The slope in regression analysis represents the rate of change in the dependent variable (Y) for a one-unit increase in the independent variable (X), holding all other variables constant (in multiple regression).\n",
        "\n",
        "- The slope is directly used in the prediction formula:\n",
        "\n",
        "Y\n",
        "^\n",
        " =β\n",
        "0\n",
        "​\n",
        " +β\n",
        "1\n",
        "​\n",
        " X\n",
        "1\n",
        "​\n",
        " +⋯+β\n",
        "k\n",
        "​\n",
        " X\n",
        "k\n",
        "​\n",
        " - Changing the value of a predictor will change the predicted Y in proportion to the slope.\n",
        "- The steeper the slope, the greater the influence of that variable on the outcome.\n",
        "\n"
      ],
      "metadata": {
        "id": "hgAv-ZxZ1um-"
      }
    },
    {
      "cell_type": "markdown",
      "source": [
        "17.  How does the intercept in a regression model provide context for the relationship between variables?"
      ],
      "metadata": {
        "id": "NCpdei-x2OH9"
      }
    },
    {
      "cell_type": "markdown",
      "source": [
        "Ans- The intercept (𝛽0) in a regression model gives the baseline value of the dependent variable Y when all independent variables are equal to zero. It provides context by anchoring the relationship between the predictors and the outcome.\n",
        "- Establishes a Reference Point:\n",
        "\n",
        " - Helps interpret how changes in predictors affect Y relative to a known baseline.\n",
        " - Without the intercept, you'd be assuming that the line/plane goes through the origin — often unrealistic.\n",
        "- Gives Meaning to Predictions\n",
        " - A model without a meaningful intercept may lead to poor extrapolation or wrong conclusions when predictors are near zero.\n",
        "- Affects the Interpretation of Slopes\n",
        " - While slopes indicate change, the intercept anchors those changes. Without it, the model would be “unrooted.”\n",
        "- Contextualizes Edge Cases\n",
        " - In some domains (e.g., business, biology), interpreting the outcome when predictors are zero gives insight into base conditions or startup levels (e.g., fixed costs).\n",
        "\n"
      ],
      "metadata": {
        "id": "XUraO5Ic2R9s"
      }
    },
    {
      "cell_type": "markdown",
      "source": [
        "18. What are the limitations of using R² as a sole measure of model performance?"
      ],
      "metadata": {
        "id": "DlrAoBrB209E"
      }
    },
    {
      "cell_type": "markdown",
      "source": [
        "Ans- The coefficient of determination (𝑅2) is a popular metric in regression, measuring the proportion of the variance in the dependent variable explained by the independent variables. However, relying on it alone to evaluate model performance can be misleading for several reasons:\n",
        "1. It Doesn’t Indicate Predictive Power on New Data\n",
        "- A high 𝑅2might mean the model fits training data well, but it doesn’t ensure good generalization.\n",
        "- Models can overfit the training data and still have a high 𝑅2.\n",
        "2.  It Can Be Inflated by Adding Irrelevant Predictors:\n",
        "-  𝑅2 always increases or stays the same when you add more variables, even if those variables are not meaningful.\n",
        "- This leads to overfitting and false confidence in model quality.\n",
        "3.  It Doesn’t Reflect Model Bias or Error Magnitude\n",
        "- 𝑅2gives no information about:\n",
        " - The magnitude of prediction errors\n",
        " - Whether predictions are systematically biased (e.g., consistently too high or too low)\n",
        "- A model can have a decent 𝑅2and still have large errors.\n",
        "4. It Assumes a Linear Relationship\n",
        "- 𝑅2is meaningful in linear models, but not reliable for nonlinear relationships.\n",
        "- A poor 𝑅2 doesn't mean the relationship doesn't exist — it might just be nonlinear or more complex.\n",
        "\n"
      ],
      "metadata": {
        "id": "P-FjurTJ24Wk"
      }
    },
    {
      "cell_type": "markdown",
      "source": [
        "19.  How would you interpret a large standard error for a regression coefficient?"
      ],
      "metadata": {
        "id": "KQ06iFJ13-Jc"
      }
    },
    {
      "cell_type": "markdown",
      "source": [
        "Ans- The standard error (SE) of a regression coefficient measures how precisely that coefficient is estimated. A large standard error indicates greater uncertainty in the estimate of the coefficient.\n",
        "\n",
        "- Multicollinearity: \tPredictors are highly correlated; makes it hard to isolate each variable’s effect.\n",
        "- Small sample size: \tNot enough data to precisely estimate coefficients.\n",
        "- High variance in predictors: Erratic input values increase instability in estimates.\n",
        "- Poor model fit: The model may not represent the underlying data well."
      ],
      "metadata": {
        "id": "yGidALYK4BRk"
      }
    },
    {
      "cell_type": "markdown",
      "source": [
        "20.  How can heteroscedasticity be identified in residual plots, and why is it important to address it?"
      ],
      "metadata": {
        "id": "OhYxggA_4ftc"
      }
    },
    {
      "cell_type": "markdown",
      "source": [
        "Ans- Heteroscedasticity occurs when the variance of residuals (errors) is not constant across all levels of the independent variables.\n",
        "In contrast, homoscedasticity means the residuals have equal variance, which is an assumption of linear regression.\n",
        "\n",
        "   1.How to Identify Heteroscedasticity in Residual Plots:\n",
        "\n",
        "You can detect heteroscedasticity visually using residual plots — scatter plots of:\n",
        "\n",
        "    Residuals (errors) vs. Fitted Values (or predictors)\n",
        "-  Visual Indicators:\n",
        " - Funnel shape: Residuals spread out or narrow as fitted values increase or decrease.\n",
        " - Curved pattern: Indicates non-linearity or variance changes.\n",
        " - Clusters: Residuals group at different levels of X or Y, suggesting non-constant spread.\n",
        " 2.  Why It’s Important to Address Heteroscedasticity:\n",
        "- Violates regression assumptions: Affects the reliability of hypothesis tests\n",
        "- Standard errors become biased: \tLeads to incorrect p-values and confidence intervals\n",
        "- Misleading inferences: \tYou might incorrectly accept or reject predictors\n",
        "- Model becomes inefficient: \tIt won’t be the best linear unbiased estimator (BLUE)"
      ],
      "metadata": {
        "id": "z1-_vNbF4i4s"
      }
    },
    {
      "cell_type": "markdown",
      "source": [
        "21. What does it mean if a Multiple Linear Regression model has a high R² but low adjusted R²?"
      ],
      "metadata": {
        "id": "EUDRoDab51hc"
      }
    },
    {
      "cell_type": "markdown",
      "source": [
        "Ans- If a Multiple Linear Regression model has a high 𝑅2 but a low adjusted 𝑅2, it usually signals a problem with overfitting or the inclusion of irrelevant predictors. Here's a breakdown:\n",
        "\n",
        "High R2:\n",
        "- The model explains a large portion of the variance in the dependent variable.\n",
        "- But: 𝑅2always increases when you add more predictors, even if they're useless.\n",
        "\n",
        "Low Adjusted\n",
        "- Adjusted 𝑅2 penalizes the model for including predictors that do not improve the model's explanatory power.\n",
        "- A low adjusted 𝑅2 indicates that many variables are not contributing meaningfully.\n",
        "\n"
      ],
      "metadata": {
        "id": "dyKKJio355Cf"
      }
    },
    {
      "cell_type": "markdown",
      "source": [
        "22. Why is it important to scale variables in Multiple Linear Regression?"
      ],
      "metadata": {
        "id": "XaHDkThU66Wd"
      }
    },
    {
      "cell_type": "markdown",
      "source": [
        "Ans- In Multiple Linear Regression, scaling (standardizing or normalizing) the variables is not always mathematically required, but it is highly recommended in certain situations to ensure model interpretability, numerical stability, and fair influence of predictors.\n",
        "\n",
        "- Improve Interpretability of Coefficients (Especially with Regularization):\n",
        " - In regular linear regression, coefficients represent the change in the outcome per unit change in a predictor. If predictors are on very different scales, comparing coefficients becomes meaningless.\n",
        "- Prevent Numerical Instability:\n",
        "\n",
        " If variables differ wildly in scale, the algorithm may face computational precision issues, especially in:\n",
        "  - Matrix inversion (used in solving regression equations)\n",
        "  - Gradient-based solvers (for optimization)\n",
        "- Necessary for Regularized Regression (Ridge, Lasso)\n",
        " - Regularization adds a penalty based on the magnitude of coefficients, and this is scale-sensitive.\n",
        "- Better Visualization of Residuals and Diagnostics:\n",
        " - Make residual analysis cleaner\n",
        " - Help detect issues like heteroscedasticity, outliers, or non-linearity more effectively\n",
        "\n"
      ],
      "metadata": {
        "id": "kbroXDC26-71"
      }
    },
    {
      "cell_type": "markdown",
      "source": [
        "23.  What is polynomial regression?"
      ],
      "metadata": {
        "id": "1wdlumHS7l0k"
      }
    },
    {
      "cell_type": "markdown",
      "source": [
        "Ans-\n",
        "- Polynomial Regression is a type of regression technique that models the relationship between the independent variable(s) and the dependent variable as a polynomial equation of degree n. Unlike linear regression, which fits a straight line, polynomial regression can fit curved or non-linear relationships by including higher-order terms such as\n",
        "𝑥2,𝑥3, etc.\n",
        "- It is useful when data shows a non-linear trend but still requires a model that is linear in the coefficients. However, increasing the degree too much can lead to overfitting and poor generalization."
      ],
      "metadata": {
        "id": "7LrbAM3m7x1t"
      }
    },
    {
      "cell_type": "markdown",
      "source": [
        "24. How does polynomial regression differ from linear regression?"
      ],
      "metadata": {
        "id": "1qech-3S8S6M"
      }
    },
    {
      "cell_type": "markdown",
      "source": [
        "Ans- Linear Regression:\n",
        "- Model shape: \tStraight line\n",
        "- Relationship: Linear\n",
        "- Equation terms: Only 𝑥\n",
        "- Flexibility: Less\n",
        "- Risk: Underfitting\n",
        "\n",
        "  Polynomial Regression:\n",
        "-  Model shape: \tCurve\n",
        "- Relationship: Non-linear\n",
        "- Equation terms: \t𝑥,𝑥2,𝑥3\n",
        "- Fxibility: More (increases with degree)\n",
        "- Risk: \tOverfitting if degree is high\n"
      ],
      "metadata": {
        "id": "e24Qzdm_8Vm7"
      }
    },
    {
      "cell_type": "markdown",
      "source": [
        "25. When is polynomial regression used?"
      ],
      "metadata": {
        "id": "a61E6B27Dg6E"
      }
    },
    {
      "cell_type": "markdown",
      "source": [
        "Ans- Polynomial Regression is used when the relationship between the independent variable(s) and the dependent variable is non-linear, but the data can still be modeled using a polynomial equation.\n",
        "- Curved Trends:\n",
        "When data shows a U-shape, inverted U, or any smooth curve — which a straight line cannot fit.\n",
        "- Better Fit for Non-Linear Patterns: When linear regression underfits the data and fails to capture the complexity of the trend.\n",
        "- Forecasting: For time-series or financial data where the trend involves peaks and troughs.\n",
        "- Scientific and Engineering Applications: Used in physics, chemistry, or biology where relationships follow parabolic or exponential patterns.\n",
        "- Modeling Interactions: When combined with transformations or interactions of variables to improve regression accuracy.\n",
        "\n"
      ],
      "metadata": {
        "id": "vxfZPn5_Dk0P"
      }
    },
    {
      "cell_type": "markdown",
      "source": [
        "26. What is the general equation for polynomial regression?"
      ],
      "metadata": {
        "id": "Ia6Vv-NOD6fl"
      }
    },
    {
      "cell_type": "markdown",
      "source": [
        "Ans- The general equation for a polynomial regression model of degree n is:\n",
        "    \n",
        "    y= β0+ β1​x+ β2x2+ β3x3+⋯+ βnxn+ ϵ\n",
        "    \n",
        " Where:\n",
        "- y = Dependent (response) variable\n",
        "- x = Independent (predictor) variable\n",
        "\n",
        "- 𝛽\n",
        "0\n",
        ",\n",
        "𝛽\n",
        "1\n",
        ",\n",
        ".\n",
        ".\n",
        ".\n",
        ",\n",
        "𝛽\n",
        "𝑛 = Coefficients to be estimated\n",
        "- x\n",
        "2\n",
        " ,x\n",
        "3\n",
        " ,...,x\n",
        "n\n",
        "  = Polynomial (non-linear) terms\n",
        "- ϵ = Error term    "
      ],
      "metadata": {
        "id": "T1p7-E8xD97s"
      }
    },
    {
      "cell_type": "markdown",
      "source": [
        "27. Can polynomial regression be applied to multiple variables?\n"
      ],
      "metadata": {
        "id": "ZAP6mY4-FCf2"
      }
    },
    {
      "cell_type": "markdown",
      "source": [
        "Ans- Yes, polynomial regression can be extended to handle multiple independent variables — this is known as Multivariate Polynomial Regression.\n",
        "- Predicting house prices using features like area and number of rooms (with non-linear effects)\n",
        "- Modeling complex real-world systems in physics, finance, or engineering\n",
        "\n"
      ],
      "metadata": {
        "id": "1YpmFKlxFG-F"
      }
    },
    {
      "cell_type": "markdown",
      "source": [
        "28. What are the limitations of polynomial regression?"
      ],
      "metadata": {
        "id": "LUqJJ3KZFUq1"
      }
    },
    {
      "cell_type": "markdown",
      "source": [
        "Ans-\n",
        "- Overfitting: Higher-degree polynomials can fit the noise in the data instead of the actual pattern, leading to poor performance on new data.\n",
        "- Extrapolation Risk:  Predictions outside the range of the training data (extrapolation) can become unrealistic and unstable due to the sharp bends of polynomial curves.\n",
        "- Increased Complexity:  As the degree increases, the model becomes more complex with many terms, making it harder to interpret and computationally expensive.\n",
        "- Multicollinearity: Higher-degree terms (like 𝑥2,𝑥3) are often highly correlated with each other and the original variable, which can lead to unstable coefficient estimates.\n",
        "-  Sensitive to Outliers: Polynomial regression is more sensitive to outliers, which can heavily influence the curve and distort predictions.\n",
        "\n",
        "\n"
      ],
      "metadata": {
        "id": "9QixZyS6FXcW"
      }
    },
    {
      "cell_type": "markdown",
      "source": [
        "29. What methods can be used to evaluate model fit when selecting the degree of a polynomial?"
      ],
      "metadata": {
        "id": "ZKCjkZR2F2e0"
      }
    },
    {
      "cell_type": "markdown",
      "source": [
        "Ans- To select the appropriate degree for a polynomial regression model, it’s important to balance model complexity with prediction accuracy. The following methods are commonly used:\n",
        "- R² and Adjusted R²\n",
        " - R² measures the proportion of variance explained by the model.\n",
        " - Adjusted R² adjusts for the number of predictors; it helps prevent overfitting by penalizing unnecessary terms.\n",
        "- Cross-Validation (e.g., k-Fold)\n",
        " - Splits data into training and validation sets.\n",
        " - Evaluates model performance on unseen data.\n",
        " - Helps choose a degree that generalizes well.\n",
        "- Mean Squared Error (MSE) / Root MSE\n",
        " - Measures average squared prediction error.\n",
        " - Compare MSE on validation data for models of different degrees.\n",
        "- AIC (Akaike Information Criterion) / BIC (Bayesian Information Criterion)\n",
        " - These penalize model complexity.\n",
        " - Lower AIC/BIC = better trade-off between fit and simplicity.\n",
        "\n"
      ],
      "metadata": {
        "id": "sRw1cDu8F6ts"
      }
    },
    {
      "cell_type": "markdown",
      "source": [
        "30. Why is visualization important in polynomial regression?"
      ],
      "metadata": {
        "id": "HdPor5n-GUM1"
      }
    },
    {
      "cell_type": "markdown",
      "source": [
        "Ans- Visualization plays a crucial role in polynomial regression because it helps in understanding and validating the model in ways that numerical metrics alone cannot.\n",
        "\n",
        "- Reveals Model Fit:\n",
        " - Shows how well the polynomial curve captures the underlying pattern in the data.\n",
        " - Helps detect underfitting (too simple) or overfitting (too complex).\n",
        "- Identifies Outliers and Anomalies\n",
        " - Outliers are easier to spot when plotted.\n",
        " - Allows checking whether certain points are distorting the curve.\n",
        "- Exposes Non-linear Trends\n",
        " - Makes it easy to visualize curvature or turning points that linear models would miss.\n",
        "- Assesses Extrapolation Behavior:\n",
        " - Visualization shows how the model behaves outside the data range — especially important in polynomial regression, where curves can behave unpredictably.\n"
      ],
      "metadata": {
        "id": "9T_jfc85GYUe"
      }
    },
    {
      "cell_type": "markdown",
      "source": [
        "31. How is polynomial regression implemented in Python?"
      ],
      "metadata": {
        "id": "8MFgHUNHGwgE"
      }
    },
    {
      "cell_type": "markdown",
      "source": [
        "Ans- Polynomial regression in Python is commonly implemented using scikit-learn, which provides tools to create polynomial features and fit the model."
      ],
      "metadata": {
        "id": "pCbrnVKkG1z0"
      }
    },
    {
      "cell_type": "code",
      "source": [
        "from sklearn.linear_model import LinearRegression\n",
        "from sklearn.preprocessing import PolynomialFeatures\n",
        "from sklearn.pipeline import make_pipeline\n",
        "import numpy as np\n",
        "import matplotlib.pyplot as plt\n",
        "\n",
        "# 1. Sample Data\n",
        "X = np.array([1, 2, 3, 4, 5]).reshape(-1, 1)\n",
        "y = np.array([2, 6, 14, 28, 45])\n",
        "\n",
        "# 2. Create a pipeline with polynomial features (degree 2) and linear regression\n",
        "model = make_pipeline(PolynomialFeatures(degree=2), LinearRegression())\n",
        "\n",
        "# 3. Fit the model\n",
        "model.fit(X, y)\n",
        "\n",
        "# 4. Make predictions\n",
        "X_pred = np.linspace(1, 5, 100).reshape(-1, 1)\n",
        "y_pred = model.predict(X_pred)\n",
        "\n",
        "# 5. Plot results\n",
        "plt.scatter(X, y, color='blue', label='Actual data')\n",
        "plt.plot(X_pred, y_pred, color='red', label='Polynomial Fit (deg 2)')\n",
        "plt.xlabel('X')\n",
        "plt.ylabel('y')\n",
        "plt.title('Polynomial Regression')\n",
        "plt.legend()\n",
        "plt.show()\n"
      ],
      "metadata": {
        "colab": {
          "base_uri": "https://localhost:8080/",
          "height": 472
        },
        "id": "7tBLvMrMG5lv",
        "outputId": "5513e722-f7a4-426f-d1ac-81363cfa3800"
      },
      "execution_count": null,
      "outputs": [
        {
          "output_type": "display_data",
          "data": {
            "text/plain": [
              "<Figure size 640x480 with 1 Axes>"
            ],
            "image/png": "[encoded data removed]"
          },
          "metadata": {}
        }
      ]
    }
  ]
}